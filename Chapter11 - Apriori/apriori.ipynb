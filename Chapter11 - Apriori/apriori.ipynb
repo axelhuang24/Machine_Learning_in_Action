{
 "cells": [
  {
   "cell_type": "markdown",
   "metadata": {},
   "source": [
    "## 第十一章: 使用Apriori算法进行关联分析"
   ]
  },
  {
   "cell_type": "markdown",
   "metadata": {
    "collapsed": true
   },
   "source": [
    "# 11.3 使用Apriori算法来发现频繁集"
   ]
  },
  {
   "cell_type": "code",
   "execution_count": 4,
   "metadata": {},
   "outputs": [],
   "source": [
    "import apriori"
   ]
  },
  {
   "cell_type": "code",
   "execution_count": null,
   "metadata": {},
   "outputs": [],
   "source": [
    "dataSet = apriori.loadDataSet()\n",
    "dataSet"
   ]
  },
  {
   "cell_type": "code",
   "execution_count": null,
   "metadata": {},
   "outputs": [],
   "source": [
    "C1 = apriori.createC1(dataSet)\n",
    "C1"
   ]
  },
  {
   "cell_type": "code",
   "execution_count": null,
   "metadata": {},
   "outputs": [],
   "source": [
    "# D = map(set, dataSet)\n",
    "D = [s for s in dataSet]\n",
    "D"
   ]
  },
  {
   "cell_type": "code",
   "execution_count": null,
   "metadata": {},
   "outputs": [],
   "source": [
    "L1, suppData0 = apriori.scanD(D, C1, 0.5)"
   ]
  },
  {
   "cell_type": "markdown",
   "metadata": {},
   "source": [
    "# 11.3.2 组织完整的Apriori算法"
   ]
  },
  {
   "cell_type": "code",
   "execution_count": null,
   "metadata": {},
   "outputs": [],
   "source": [
    "L, suppData = apriori.apriori(dataSet, minSupport=0.5)"
   ]
  },
  {
   "cell_type": "code",
   "execution_count": null,
   "metadata": {},
   "outputs": [],
   "source": [
    "rules = apriori.generateRules(L, suppData, minConf=0.5)"
   ]
  },
  {
   "cell_type": "code",
   "execution_count": null,
   "metadata": {},
   "outputs": [],
   "source": [
    "rules"
   ]
  },
  {
   "cell_type": "code",
   "execution_count": null,
   "metadata": {
    "collapsed": true
   },
   "outputs": [],
   "source": []
  },
  {
   "cell_type": "markdown",
   "metadata": {},
   "source": [
    "# 11.5 示例：发现国会投票中的模式"
   ]
  },
  {
   "cell_type": "markdown",
   "metadata": {},
   "source": [
    "# 11.6 示例：发现毒蘑菇的相似特征"
   ]
  },
  {
   "cell_type": "code",
   "execution_count": 2,
   "metadata": {
    "collapsed": true
   },
   "outputs": [],
   "source": [
    "mushDatSet = [ line.split() for line in open('mushroom.dat').readlines() ]"
   ]
  },
  {
   "cell_type": "code",
   "execution_count": 5,
   "metadata": {},
   "outputs": [],
   "source": [
    "L, suppData = apriori.apriori(mushDatSet, minSupport=0.3)"
   ]
  },
  {
   "cell_type": "code",
   "execution_count": 7,
   "metadata": {},
   "outputs": [
    {
     "name": "stdout",
     "output_type": "stream",
     "text": [
      "frozenset({'2', '59', '23', '39'})\n",
      "frozenset({'2', '63', '23', '39'})\n",
      "frozenset({'2', '63', '59', '23'})\n",
      "frozenset({'28', '2', '59', '39'})\n",
      "frozenset({'28', '2', '63', '39'})\n",
      "frozenset({'28', '2', '63', '59'})\n",
      "frozenset({'28', '2', '90', '39'})\n",
      "frozenset({'28', '2', '59', '90'})\n",
      "frozenset({'2', '34', '23', '39'})\n",
      "frozenset({'2', '59', '34', '23'})\n",
      "frozenset({'2', '59', '34', '39'})\n",
      "frozenset({'2', '63', '34', '23'})\n",
      "frozenset({'2', '63', '34', '39'})\n",
      "frozenset({'2', '63', '59', '34'})\n",
      "frozenset({'2', '34', '76', '39'})\n",
      "frozenset({'2', '34', '23', '90'})\n",
      "frozenset({'2', '34', '90', '39'})\n",
      "frozenset({'2', '59', '34', '90'})\n",
      "frozenset({'2', '63', '34', '90'})\n",
      "frozenset({'2', '93', '34', '23'})\n",
      "frozenset({'2', '93', '34', '39'})\n",
      "frozenset({'2', '93', '59', '34'})\n",
      "frozenset({'2', '93', '63', '34'})\n",
      "frozenset({'2', '93', '34', '90'})\n",
      "frozenset({'86', '2', '34', '23'})\n",
      "frozenset({'28', '2', '34', '39'})\n",
      "frozenset({'28', '2', '34', '53'})\n",
      "frozenset({'28', '2', '59', '34'})\n",
      "frozenset({'28', '2', '63', '34'})\n",
      "frozenset({'28', '2', '85', '34'})\n",
      "frozenset({'28', '86', '2', '34'})\n",
      "frozenset({'28', '2', '34', '90'})\n",
      "frozenset({'36', '2', '23', '39'})\n",
      "frozenset({'36', '2', '59', '23'})\n",
      "frozenset({'36', '2', '59', '39'})\n",
      "frozenset({'36', '2', '63', '23'})\n",
      "frozenset({'36', '2', '63', '39'})\n",
      "frozenset({'36', '2', '63', '59'})\n",
      "frozenset({'36', '2', '90', '39'})\n",
      "frozenset({'36', '2', '59', '90'})\n",
      "frozenset({'36', '2', '63', '90'})\n",
      "frozenset({'36', '2', '93', '23'})\n",
      "frozenset({'36', '2', '93', '39'})\n",
      "frozenset({'36', '2', '93', '59'})\n",
      "frozenset({'36', '2', '93', '63'})\n",
      "frozenset({'36', '2', '93', '90'})\n",
      "frozenset({'36', '2', '34', '23'})\n",
      "frozenset({'36', '86', '2', '23'})\n",
      "frozenset({'36', '2', '34', '39'})\n",
      "frozenset({'36', '2', '59', '34'})\n",
      "frozenset({'36', '2', '63', '34'})\n",
      "frozenset({'36', '86', '2', '34'})\n",
      "frozenset({'36', '2', '34', '90'})\n",
      "frozenset({'36', '93', '2', '34'})\n",
      "frozenset({'28', '2', '53', '39'})\n",
      "frozenset({'28', '2', '85', '39'})\n",
      "frozenset({'28', '86', '2', '39'})\n",
      "frozenset({'2', '34', '53', '39'})\n",
      "frozenset({'86', '2', '34', '39'})\n",
      "frozenset({'36', '86', '2', '39'})\n",
      "frozenset({'2', '53', '90', '39'})\n",
      "frozenset({'28', '2', '85', '53'})\n",
      "frozenset({'28', '86', '2', '53'})\n",
      "frozenset({'28', '2', '53', '90'})\n",
      "frozenset({'86', '2', '34', '53'})\n",
      "frozenset({'2', '34', '53', '90'})\n",
      "frozenset({'86', '2', '53', '39'})\n",
      "frozenset({'2', '63', '59', '39'})\n",
      "frozenset({'2', '59', '23', '90'})\n",
      "frozenset({'2', '59', '90', '39'})\n",
      "frozenset({'28', '2', '59', '85'})\n",
      "frozenset({'28', '86', '2', '59'})\n",
      "frozenset({'86', '2', '59', '34'})\n",
      "frozenset({'36', '86', '2', '59'})\n",
      "frozenset({'2', '63', '90', '39'})\n",
      "frozenset({'2', '63', '59', '90'})\n",
      "frozenset({'28', '2', '63', '85'})\n",
      "frozenset({'28', '86', '2', '63'})\n",
      "frozenset({'86', '2', '63', '34'})\n",
      "frozenset({'36', '86', '2', '63'})\n",
      "frozenset({'67', '2', '34', '39'})\n",
      "frozenset({'67', '2', '85', '34'})\n",
      "frozenset({'67', '86', '2', '34'})\n",
      "frozenset({'67', '2', '85', '39'})\n",
      "frozenset({'67', '86', '2', '39'})\n",
      "frozenset({'86', '2', '34', '76'})\n",
      "frozenset({'36', '2', '85', '23'})\n",
      "frozenset({'2', '85', '23', '39'})\n",
      "frozenset({'36', '2', '85', '39'})\n",
      "frozenset({'2', '59', '85', '23'})\n",
      "frozenset({'36', '2', '59', '85'})\n",
      "frozenset({'2', '59', '85', '39'})\n",
      "frozenset({'2', '63', '85', '23'})\n",
      "frozenset({'36', '2', '63', '85'})\n",
      "frozenset({'2', '63', '85', '39'})\n",
      "frozenset({'2', '63', '59', '85'})\n",
      "frozenset({'2', '85', '76', '39'})\n",
      "frozenset({'2', '85', '23', '90'})\n",
      "frozenset({'36', '2', '85', '90'})\n",
      "frozenset({'2', '85', '90', '39'})\n",
      "frozenset({'2', '59', '85', '90'})\n",
      "frozenset({'2', '63', '85', '90'})\n",
      "frozenset({'2', '93', '85', '23'})\n",
      "frozenset({'36', '2', '93', '85'})\n",
      "frozenset({'2', '93', '85', '39'})\n",
      "frozenset({'2', '93', '59', '85'})\n",
      "frozenset({'2', '93', '63', '85'})\n",
      "frozenset({'2', '93', '85', '90'})\n",
      "frozenset({'2', '85', '34', '23'})\n",
      "frozenset({'86', '2', '85', '23'})\n",
      "frozenset({'28', '86', '2', '85'})\n",
      "frozenset({'28', '2', '85', '90'})\n",
      "frozenset({'36', '2', '85', '34'})\n",
      "frozenset({'2', '85', '34', '39'})\n",
      "frozenset({'2', '85', '34', '53'})\n",
      "frozenset({'2', '59', '85', '34'})\n",
      "frozenset({'2', '63', '85', '34'})\n",
      "frozenset({'2', '85', '34', '76'})\n",
      "frozenset({'86', '2', '85', '34'})\n",
      "frozenset({'2', '85', '34', '90'})\n",
      "frozenset({'93', '2', '85', '34'})\n",
      "frozenset({'36', '86', '2', '85'})\n",
      "frozenset({'2', '85', '53', '39'})\n",
      "frozenset({'86', '2', '85', '39'})\n",
      "frozenset({'86', '2', '85', '53'})\n",
      "frozenset({'2', '85', '53', '90'})\n",
      "frozenset({'86', '2', '59', '85'})\n",
      "frozenset({'86', '2', '63', '85'})\n",
      "frozenset({'67', '86', '2', '85'})\n",
      "frozenset({'86', '2', '85', '76'})\n",
      "frozenset({'86', '2', '23', '39'})\n",
      "frozenset({'86', '2', '59', '23'})\n",
      "frozenset({'86', '2', '59', '39'})\n",
      "frozenset({'86', '2', '63', '23'})\n",
      "frozenset({'86', '2', '63', '39'})\n",
      "frozenset({'86', '2', '63', '59'})\n",
      "frozenset({'86', '2', '76', '39'})\n",
      "frozenset({'86', '2', '93', '23'})\n",
      "frozenset({'86', '2', '93', '39'})\n",
      "frozenset({'86', '2', '93', '59'})\n",
      "frozenset({'86', '2', '93', '63'})\n",
      "frozenset({'86', '2', '23', '90'})\n",
      "frozenset({'28', '86', '2', '90'})\n",
      "frozenset({'86', '2', '34', '90'})\n",
      "frozenset({'86', '93', '2', '34'})\n",
      "frozenset({'36', '86', '2', '90'})\n",
      "frozenset({'36', '86', '93', '2'})\n",
      "frozenset({'86', '2', '90', '39'})\n",
      "frozenset({'86', '2', '53', '90'})\n",
      "frozenset({'86', '2', '59', '90'})\n",
      "frozenset({'86', '2', '63', '90'})\n",
      "frozenset({'86', '2', '85', '90'})\n",
      "frozenset({'86', '93', '2', '85'})\n",
      "frozenset({'86', '93', '2', '90'})\n",
      "frozenset({'93', '2', '23', '39'})\n",
      "frozenset({'93', '2', '59', '23'})\n",
      "frozenset({'93', '2', '59', '39'})\n",
      "frozenset({'93', '2', '63', '39'})\n",
      "frozenset({'93', '2', '63', '59'})\n",
      "frozenset({'93', '2', '23', '90'})\n",
      "frozenset({'93', '2', '90', '39'})\n",
      "frozenset({'93', '2', '59', '90'})\n",
      "frozenset({'93', '2', '63', '90'})\n"
     ]
    }
   ],
   "source": [
    "for item in L[3]:\n",
    "    if item.intersection('2'):\n",
    "        print(item)"
   ]
  },
  {
   "cell_type": "code",
   "execution_count": null,
   "metadata": {
    "collapsed": true
   },
   "outputs": [],
   "source": []
  },
  {
   "cell_type": "code",
   "execution_count": null,
   "metadata": {
    "collapsed": true
   },
   "outputs": [],
   "source": []
  },
  {
   "cell_type": "code",
   "execution_count": null,
   "metadata": {
    "collapsed": true
   },
   "outputs": [],
   "source": []
  },
  {
   "cell_type": "code",
   "execution_count": null,
   "metadata": {
    "collapsed": true
   },
   "outputs": [],
   "source": []
  }
 ],
 "metadata": {
  "kernelspec": {
   "display_name": "Python 3",
   "language": "python",
   "name": "python3"
  },
  "language_info": {
   "codemirror_mode": {
    "name": "ipython",
    "version": 3
   },
   "file_extension": ".py",
   "mimetype": "text/x-python",
   "name": "python",
   "nbconvert_exporter": "python",
   "pygments_lexer": "ipython3",
   "version": "3.6.2"
  }
 },
 "nbformat": 4,
 "nbformat_minor": 1
}
