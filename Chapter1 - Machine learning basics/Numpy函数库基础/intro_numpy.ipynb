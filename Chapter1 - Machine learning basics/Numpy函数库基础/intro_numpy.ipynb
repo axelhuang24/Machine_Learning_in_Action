{
 "cells": [
  {
   "cell_type": "code",
   "execution_count": 8,
   "metadata": {
    "collapsed": false
   },
   "outputs": [
    {
     "data": {
      "text/plain": [
       "array([[ 0.48924329,  0.8229303 ,  0.4207627 ,  0.72941294],\n",
       "       [ 0.58169073,  0.37790686,  0.2791561 ,  0.86786383],\n",
       "       [ 0.29027585,  0.89255035,  0.74389389,  0.22693735],\n",
       "       [ 0.68061284,  0.69555243,  0.63719436,  0.27196451]])"
      ]
     },
     "execution_count": 8,
     "metadata": {},
     "output_type": "execute_result"
    }
   ],
   "source": [
    "from numpy import *\n",
    "random.rand(4,4)#这是个数组 array"
   ]
  },
  {
   "cell_type": "code",
   "execution_count": 9,
   "metadata": {
    "collapsed": false
   },
   "outputs": [
    {
     "data": {
      "text/plain": [
       "numpy.ndarray"
      ]
     },
     "execution_count": 9,
     "metadata": {},
     "output_type": "execute_result"
    }
   ],
   "source": [
    "type(random.rand(4,4))"
   ]
  },
  {
   "cell_type": "code",
   "execution_count": 10,
   "metadata": {
    "collapsed": false
   },
   "outputs": [
    {
     "data": {
      "text/plain": [
       "matrix([[ 0.8419623 ,  0.23343004,  0.88749904,  0.69332503],\n",
       "        [ 0.44559237,  0.9654768 ,  0.18637033,  0.04499227],\n",
       "        [ 0.20374883,  0.82314108,  0.45169068,  0.36132179],\n",
       "        [ 0.93076536,  0.5255061 ,  0.85453615,  0.84796703]])"
      ]
     },
     "execution_count": 10,
     "metadata": {},
     "output_type": "execute_result"
    }
   ],
   "source": [
    "# 将数组转换成矩阵\n",
    "randMat = mat(random.rand(4,4))\n",
    "randMat"
   ]
  },
  {
   "cell_type": "code",
   "execution_count": 11,
   "metadata": {
    "collapsed": false
   },
   "outputs": [
    {
     "data": {
      "text/plain": [
       "matrix([[-0.02643088,  1.43341472, -2.25150272,  0.90492859],\n",
       "        [-0.68078491,  0.47845718,  0.69724486,  0.23414659],\n",
       "        [ 4.6002563 , -0.11719095,  1.68991823, -4.47517924],\n",
       "        [-4.18498314, -1.75179102,  0.33623727,  4.55074389]])"
      ]
     },
     "execution_count": 11,
     "metadata": {},
     "output_type": "execute_result"
    }
   ],
   "source": [
    "# 矩阵求逆\n",
    "invRandMat = randMat.I\n",
    "invRandMat"
   ]
  },
  {
   "cell_type": "code",
   "execution_count": 12,
   "metadata": {
    "collapsed": false
   },
   "outputs": [
    {
     "data": {
      "text/plain": [
       "matrix([[  1.00000000e+00,   0.00000000e+00,   2.77555756e-16,\n",
       "          -4.44089210e-16],\n",
       "        [ -8.32667268e-17,   1.00000000e+00,   1.71737624e-16,\n",
       "           0.00000000e+00],\n",
       "        [ -2.22044605e-16,   1.11022302e-16,   1.00000000e+00,\n",
       "           2.22044605e-16],\n",
       "        [  0.00000000e+00,  -2.22044605e-16,   6.10622664e-16,\n",
       "           1.00000000e+00]])"
      ]
     },
     "execution_count": 12,
     "metadata": {},
     "output_type": "execute_result"
    }
   ],
   "source": [
    "randMat * invRandMat"
   ]
  },
  {
   "cell_type": "code",
   "execution_count": 13,
   "metadata": {
    "collapsed": false
   },
   "outputs": [
    {
     "data": {
      "text/plain": [
       "matrix([[  8.88178420e-16,   0.00000000e+00,   2.77555756e-16,\n",
       "          -4.44089210e-16],\n",
       "        [ -8.32667268e-17,   0.00000000e+00,   1.71737624e-16,\n",
       "           0.00000000e+00],\n",
       "        [ -2.22044605e-16,   1.11022302e-16,  -2.22044605e-16,\n",
       "           2.22044605e-16],\n",
       "        [  0.00000000e+00,  -2.22044605e-16,   6.10622664e-16,\n",
       "           0.00000000e+00]])"
      ]
     },
     "execution_count": 13,
     "metadata": {},
     "output_type": "execute_result"
    }
   ],
   "source": [
    "# 单位矩阵\n",
    "myEye = randMat * invRandMat\n",
    "myEye - eye(4)"
   ]
  },
  {
   "cell_type": "code",
   "execution_count": null,
   "metadata": {
    "collapsed": true
   },
   "outputs": [],
   "source": []
  }
 ],
 "metadata": {
  "kernelspec": {
   "display_name": "Python 2",
   "language": "python",
   "name": "python2"
  },
  "language_info": {
   "codemirror_mode": {
    "name": "ipython",
    "version": 2
   },
   "file_extension": ".py",
   "mimetype": "text/x-python",
   "name": "python",
   "nbconvert_exporter": "python",
   "pygments_lexer": "ipython2",
   "version": "2.7.13"
  }
 },
 "nbformat": 4,
 "nbformat_minor": 0
}
