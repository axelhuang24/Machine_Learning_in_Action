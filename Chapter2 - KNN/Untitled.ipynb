{
 "cells": [
  {
   "cell_type": "markdown",
   "metadata": {},
   "source": [
    "# Implementation of kNN algorithme\n",
    "## 2.1.1 准备：使用python导入数据"
   ]
  },
  {
   "cell_type": "code",
   "execution_count": null,
   "metadata": {
    "collapsed": true
   },
   "outputs": [],
   "source": [
    "# numpy是科学计算包， 用于python中的各种矩阵运算\n",
    "import numpy as np\n",
    "# operator模块是python中内置的运算符模块，\n",
    "# 它定义了一些算术和比较内置操作的函数。\n",
    "# operator模块是用c实现的，所以执行速度比python代码快。\n",
    "import operator \n",
    "%matplotlib inline"
   ]
  },
  {
   "cell_type": "code",
   "execution_count": 12,
   "metadata": {
    "collapsed": true
   },
   "outputs": [],
   "source": [
    "def createDataSet():\n",
    "    group = np.array([(1.0, 1.1), (1.0, 1.0), (0, 0), (0, 0.1)])\n",
    "    labels = ['A', 'A', 'B', 'B']\n",
    "    return group, labels"
   ]
  },
  {
   "cell_type": "code",
   "execution_count": 13,
   "metadata": {
    "collapsed": false
   },
   "outputs": [],
   "source": [
    "group, labels = createDataSet()"
   ]
  },
  {
   "cell_type": "code",
   "execution_count": 15,
   "metadata": {
    "collapsed": false
   },
   "outputs": [
    {
     "data": {
      "text/plain": [
       "array([[ 1. ,  1.1],\n",
       "       [ 1. ,  1. ],\n",
       "       [ 0. ,  0. ],\n",
       "       [ 0. ,  0.1]])"
      ]
     },
     "execution_count": 15,
     "metadata": {},
     "output_type": "execute_result"
    }
   ],
   "source": [
    "group"
   ]
  },
  {
   "cell_type": "code",
   "execution_count": 16,
   "metadata": {
    "collapsed": false
   },
   "outputs": [
    {
     "data": {
      "text/plain": [
       "['A', 'A', 'B', 'B']"
      ]
     },
     "execution_count": 16,
     "metadata": {},
     "output_type": "execute_result"
    }
   ],
   "source": [
    "labels"
   ]
  },
  {
   "cell_type": "markdown",
   "metadata": {},
   "source": [
    "## 2.1.2 实施kNN分类算法\n",
    "### k 近邻算法的代码如下"
   ]
  },
  {
   "cell_type": "code",
   "execution_count": 46,
   "metadata": {
    "collapsed": false
   },
   "outputs": [
    {
     "name": "stdout",
     "output_type": "stream",
     "text": [
      "('The class of inX is ', 'B')\n"
     ]
    }
   ],
   "source": [
    "# inX: 用于分类的输入向量\n",
    "# dataSet: 输入的训练样本集\n",
    "# labels: 输入的训练样本集的标签， 也是一个向量\n",
    "# k：用于选择最近邻居的数目\n",
    "# return : inX在该算法下属于的类别\n",
    "\n",
    "def classify0(inX, dataSet, labels, k):\n",
    "    dataSetSize = dataSet.shape[0] # 取得dataSetSize的行数\n",
    "    diffMat = tile(inX, (dataSetSize, 1)) - dataSet # tile 是将 index 在行方向上重复dataSetSize次， 在列方向上重复1次\n",
    "    sqDiffMat = diffMat**2\n",
    "    sqDistances = sqDiffMat.sum(axis=1) # sum(axis=1) 是让矩阵的每一行向量相加 (X11-X1)^2 + (X10-x0)^2\n",
    "    distances = sqDistances**0.5 # 对距离的平方开根号\n",
    "    sortedDistIndicies = distances.argsort() #argsort对数组进行排序（从小到大）， 返回的是indice\n",
    "    classCount = {}\n",
    "    # 选择距离最小的k个点\n",
    "    for i in range(3):\n",
    "        voteIlabel = labels[sortedDistIndicies[i]]\n",
    "        classCount[voteIlabel] = classCount.get(voteIlabel, 0) + 1\n",
    "    # sorted 函数是排序函数， 第一个参数是排序对象，可以是list或者是iterable(这里是第二个)，\n",
    "    # 第二个参数是比较的key， 这里是dictionnary里面的元素的值\n",
    "    # 第三个参数reverse表示逆序排序\n",
    "    sortedClassCount = sorted(classCount.iteritems(), key=operator.itemgetter(1), reverse=True)\n",
    "    return sortedClassCount[0][0]\n",
    "    \n",
    "print(\"The class of inX is \",classify0([0,0], group, labels, 3))\n"
   ]
  },
  {
   "cell_type": "code",
   "execution_count": 27,
   "metadata": {
    "collapsed": false
   },
   "outputs": [
    {
     "data": {
      "text/plain": [
       "array([[ 1. ,  1.1],\n",
       "       [ 1. ,  1. ],\n",
       "       [ 0. ,  0. ],\n",
       "       [ 0. ,  0.1]])"
      ]
     },
     "execution_count": 27,
     "metadata": {},
     "output_type": "execute_result"
    }
   ],
   "source": [
    "dataSet = group\n",
    "dataSet"
   ]
  },
  {
   "cell_type": "code",
   "execution_count": 24,
   "metadata": {
    "collapsed": false
   },
   "outputs": [
    {
     "data": {
      "text/plain": [
       "4L"
      ]
     },
     "execution_count": 24,
     "metadata": {},
     "output_type": "execute_result"
    }
   ],
   "source": [
    "dataSetSize = dataSet.shape[0] # 取得dataSetSize的行数\n",
    "dataSetSize"
   ]
  },
  {
   "cell_type": "code",
   "execution_count": 25,
   "metadata": {
    "collapsed": true
   },
   "outputs": [],
   "source": [
    "inX = [0, 0]"
   ]
  },
  {
   "cell_type": "code",
   "execution_count": 29,
   "metadata": {
    "collapsed": false
   },
   "outputs": [
    {
     "data": {
      "text/plain": [
       "array([[-1. , -1.1],\n",
       "       [-1. , -1. ],\n",
       "       [ 0. ,  0. ],\n",
       "       [ 0. , -0.1]])"
      ]
     },
     "execution_count": 29,
     "metadata": {},
     "output_type": "execute_result"
    }
   ],
   "source": [
    "diffMat = tile(inX, (dataSetSize, 1)) - dataSet # tile 是将 index 在行方向上重复dataSetSize次， 在列方向上重复1次\n",
    "diffMat"
   ]
  },
  {
   "cell_type": "code",
   "execution_count": 30,
   "metadata": {
    "collapsed": false
   },
   "outputs": [
    {
     "data": {
      "text/plain": [
       "array([[ 1.  ,  1.21],\n",
       "       [ 1.  ,  1.  ],\n",
       "       [ 0.  ,  0.  ],\n",
       "       [ 0.  ,  0.01]])"
      ]
     },
     "execution_count": 30,
     "metadata": {},
     "output_type": "execute_result"
    }
   ],
   "source": [
    "sqDiffMat = diffMat**2\n",
    "sqDiffMat"
   ]
  },
  {
   "cell_type": "code",
   "execution_count": 33,
   "metadata": {
    "collapsed": false
   },
   "outputs": [
    {
     "data": {
      "text/plain": [
       "array([ 2.21,  2.  ,  0.  ,  0.01])"
      ]
     },
     "execution_count": 33,
     "metadata": {},
     "output_type": "execute_result"
    }
   ],
   "source": [
    "sqDistances = sqDiffMat.sum(axis=1) # sum(axis=1) 是让矩阵的每一行向量相加 (X11-X1)^2 + (X10-x0)^2\n",
    "sqDistances"
   ]
  },
  {
   "cell_type": "code",
   "execution_count": 35,
   "metadata": {
    "collapsed": false
   },
   "outputs": [
    {
     "data": {
      "text/plain": [
       "array([ 1.48660687,  1.41421356,  0.        ,  0.1       ])"
      ]
     },
     "execution_count": 35,
     "metadata": {},
     "output_type": "execute_result"
    }
   ],
   "source": [
    "distances = sqDistances**0.5\n",
    "distances "
   ]
  },
  {
   "cell_type": "code",
   "execution_count": 36,
   "metadata": {
    "collapsed": false
   },
   "outputs": [
    {
     "data": {
      "text/plain": [
       "array([2, 3, 1, 0], dtype=int64)"
      ]
     },
     "execution_count": 36,
     "metadata": {},
     "output_type": "execute_result"
    }
   ],
   "source": [
    "sortedDistIndicies = distances.argsort() #argsort对数组进行排序（从小到大）， 返回的是indice\n",
    "sortedDistIndicies"
   ]
  },
  {
   "cell_type": "code",
   "execution_count": 39,
   "metadata": {
    "collapsed": true
   },
   "outputs": [],
   "source": [
    "classCount = {}"
   ]
  },
  {
   "cell_type": "code",
   "execution_count": 40,
   "metadata": {
    "collapsed": false
   },
   "outputs": [
    {
     "data": {
      "text/plain": [
       "{'A': 1, 'B': 2}"
      ]
     },
     "execution_count": 40,
     "metadata": {},
     "output_type": "execute_result"
    }
   ],
   "source": [
    "# 选择距离最小的k个点\n",
    "for i in range(3):\n",
    "    voteIlabel = labels[sortedDistIndicies[i]]\n",
    "    classCount[voteIlabel] = classCount.get(voteIlabel, 0) + 1\n",
    "voteIlabel\n",
    "classCount"
   ]
  },
  {
   "cell_type": "code",
   "execution_count": 43,
   "metadata": {
    "collapsed": false
   },
   "outputs": [
    {
     "data": {
      "text/plain": [
       "[('B', 2), ('A', 1)]"
      ]
     },
     "execution_count": 43,
     "metadata": {},
     "output_type": "execute_result"
    }
   ],
   "source": [
    "# sorted 函数是排序函数， 第一个参数是排序对象，可以是list或者是iterable(这里是第二个)，\n",
    "# 第二个参数是比较的key， 这里是dictionnary里面的元素的值\n",
    "# 第三个参数reverse表示逆序排序\n",
    "sortedClassCount = sorted(classCount.iteritems(), key=operator.itemgetter(1), reverse=True)\n",
    "sortedClassCount"
   ]
  },
  {
   "cell_type": "code",
   "execution_count": null,
   "metadata": {
    "collapsed": true
   },
   "outputs": [],
   "source": []
  },
  {
   "cell_type": "markdown",
   "metadata": {},
   "source": [
    "## 2.2示例：使用k近邻算法改进约会网站的配对结果\n",
    "### 2.2.1 准备数据：从文本文件中解析数据"
   ]
  },
  {
   "cell_type": "code",
   "execution_count": 56,
   "metadata": {
    "collapsed": true
   },
   "outputs": [],
   "source": [
    "# file2matrix 用来处理输入格式问题\n",
    "# 输入：文件名字符串\n",
    "# 输出: 训练样本矩阵和类标签向量\n",
    "\n",
    "def file2matrix(filename):\n",
    "    fr = open(filename) # 得到文件\n",
    "    arrayOfLines = fr.readlines() # 一次读取整个文件，并将文件内容分析成一个行的列表\n",
    "    numberOfLines = len(arrayOfLines) # 得到文件的行数\n",
    "    returnMat = zeros((numberOfLines, 3)) # 创建返回的numpy矩阵， 维度为：numberOfLines x 3\n",
    "    \n",
    "    classLabelVector = []\n",
    "    index = 0\n",
    "    # 解析文件数据得到列表\n",
    "    for line in arrayOfLines:\n",
    "        # strip : This method returns a copy of the string in which \n",
    "        # all chars have been stripped from the beginning and the end of the string.\n",
    "        line = line.strip() \n",
    "        # split: The method split() returns a list of all the words in the string, \n",
    "        # using str as the separator (splits on all whitespace if left unspecified), \n",
    "        # optionally limiting the number of splits to num.\n",
    "        listFromLine = line.split('\\t')\n",
    "        returnMat[index:] = listFromLine[0:3]\n",
    "        classLabelVector.append(int(listFromLine[-1])) # 将label加入classLabelVector这个向量中\n",
    "    return returnMat, classLabelVector"
   ]
  },
  {
   "cell_type": "code",
   "execution_count": 57,
   "metadata": {
    "collapsed": false
   },
   "outputs": [],
   "source": [
    "datingDataMat, datingLabels = file2matrix('datingTestSet2.txt')"
   ]
  },
  {
   "cell_type": "code",
   "execution_count": 58,
   "metadata": {
    "collapsed": false
   },
   "outputs": [
    {
     "data": {
      "text/plain": [
       "array([[  4.37570000e+04,   7.88260100e+00,   1.33244600e+00],\n",
       "       [  4.37570000e+04,   7.88260100e+00,   1.33244600e+00],\n",
       "       [  4.37570000e+04,   7.88260100e+00,   1.33244600e+00],\n",
       "       ..., \n",
       "       [  4.37570000e+04,   7.88260100e+00,   1.33244600e+00],\n",
       "       [  4.37570000e+04,   7.88260100e+00,   1.33244600e+00],\n",
       "       [  4.37570000e+04,   7.88260100e+00,   1.33244600e+00]])"
      ]
     },
     "execution_count": 58,
     "metadata": {},
     "output_type": "execute_result"
    }
   ],
   "source": [
    "datingDataMat"
   ]
  },
  {
   "cell_type": "code",
   "execution_count": 60,
   "metadata": {
    "collapsed": false
   },
   "outputs": [
    {
     "data": {
      "text/plain": [
       "[3, 2, 1, 1, 1]"
      ]
     },
     "execution_count": 60,
     "metadata": {},
     "output_type": "execute_result"
    }
   ],
   "source": [
    "datingLabels[0:5]"
   ]
  },
  {
   "cell_type": "markdown",
   "metadata": {},
   "source": []
  },
  {
   "cell_type": "markdown",
   "metadata": {},
   "source": [
    "### 2.2.2 分析数据： 使用Matpltlib创建散点图"
   ]
  },
  {
   "cell_type": "code",
   "execution_count": null,
   "metadata": {
    "collapsed": true
   },
   "outputs": [],
   "source": [
    "# 导入绘图包\n",
    "import matplotlib\n",
    "import matplotlib.pyplot as plt\n",
    "fig = plt.figure()\n",
    "ax = fig.add_subplot(111) # add_subplot(ijk) means i x j grids kth subplot\n",
    "ax.scatter(datingDataMat[:,1], datingDataMat[:,2])\n",
    "plt.show()"
   ]
  }
 ],
 "metadata": {
  "kernelspec": {
   "display_name": "Python 2",
   "language": "python",
   "name": "python2"
  },
  "language_info": {
   "codemirror_mode": {
    "name": "ipython",
    "version": 2
   },
   "file_extension": ".py",
   "mimetype": "text/x-python",
   "name": "python",
   "nbconvert_exporter": "python",
   "pygments_lexer": "ipython2",
   "version": "2.7.13"
  }
 },
 "nbformat": 4,
 "nbformat_minor": 0
}
