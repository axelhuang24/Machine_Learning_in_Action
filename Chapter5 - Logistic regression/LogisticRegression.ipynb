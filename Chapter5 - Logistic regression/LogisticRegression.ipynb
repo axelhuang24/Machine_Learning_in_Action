{
 "cells": [
  {
   "cell_type": "markdown",
   "metadata": {},
   "source": [
    "# 第五章： Logistic 回归"
   ]
  },
  {
   "cell_type": "markdown",
   "metadata": {},
   "source": [
    "## 5.2基于最优化方法的最佳回归系数确定"
   ]
  },
  {
   "cell_type": "markdown",
   "metadata": {
    "collapsed": true
   },
   "source": [
    "### 5.2.2 训练算法： 使用梯度上升找到最佳参数"
   ]
  },
  {
   "cell_type": "code",
   "execution_count": 1,
   "metadata": {
    "collapsed": true
   },
   "outputs": [],
   "source": [
    "import numpy as np"
   ]
  },
  {
   "cell_type": "code",
   "execution_count": 2,
   "metadata": {
    "collapsed": true
   },
   "outputs": [],
   "source": [
    "# Logistic 函数\n",
    "# input : 输入值 x\n",
    "# return: 对应的 sigmoid 函数值\n",
    "import math\n",
    "\n",
    "def sigmoid(inX):\n",
    "    return 1.0/(1.0 + np.exp(-inX) )\n",
    "    "
   ]
  },
  {
   "cell_type": "code",
   "execution_count": 3,
   "metadata": {
    "collapsed": true
   },
   "outputs": [],
   "source": [
    "# loadDataSet: 打开文件 test.txt 并逐行读取\n",
    "# input: none\n",
    "# return: dataSet Matrix and dataSet labels\n",
    "\n",
    "def loadDataSet():\n",
    "    dataMat = []; labelMat = []\n",
    "    fr = open('testSet.txt')\n",
    "    for line in fr.readlines():\n",
    "        lineArr = line.strip().split()\n",
    "        dataMat.append([1.0, float(lineArr[0]), float(lineArr[1])])\n",
    "        labelMat.append(int(lineArr[2]))\n",
    "    return dataMat, labelMat"
   ]
  },
  {
   "cell_type": "code",
   "execution_count": 4,
   "metadata": {
    "collapsed": true
   },
   "outputs": [],
   "source": [
    "# gradAscent: 梯度上升方法\n",
    "# input: 训练集和训练集的labels\n",
    "# return: 最后得到的 weights\n",
    "\n",
    "def gradAscent(dataMatIn, classLabels):\n",
    "    dataMatrix = np.mat(dataMatIn) # 转换成Numpy矩阵数据类型 100 x 3\n",
    "    labelMat = np.mat(classLabels).transpose() # 转换成Numpy矩阵数据类型 转置之后： 100 x 1\n",
    "    m,n = dataMatrix.shape\n",
    "    \n",
    "    alpha = 0.001 # Learning rate/步长\n",
    "    maxCycles = 500 # 迭代次数\n",
    "    weights = np.ones((n,1)) # 初始化权重 3 x 1\n",
    "    for k in range(maxCycles):\n",
    "        h = sigmoid(dataMatrix * weights) # 100 x 3  *  3 x 1  =  100 x 1\n",
    "        error = (labelMat - h)\n",
    "        # 更新权重\n",
    "        weights = weights + alpha * dataMatrix.transpose() * error # 3 x 100  *  100 x 1  =  3 x 1\n",
    "    \n",
    "    return weights"
   ]
  },
  {
   "cell_type": "code",
   "execution_count": 5,
   "metadata": {
    "collapsed": true
   },
   "outputs": [],
   "source": [
    "dataArr, labelMat = loadDataSet()"
   ]
  },
  {
   "cell_type": "code",
   "execution_count": 6,
   "metadata": {},
   "outputs": [
    {
     "data": {
      "text/plain": [
       "matrix([[ 4.12414349],\n",
       "        [ 0.48007329],\n",
       "        [-0.6168482 ]])"
      ]
     },
     "execution_count": 6,
     "metadata": {},
     "output_type": "execute_result"
    }
   ],
   "source": [
    "weights = gradAscent(dataArr, labelMat)\n",
    "weights"
   ]
  },
  {
   "cell_type": "code",
   "execution_count": null,
   "metadata": {
    "collapsed": true
   },
   "outputs": [],
   "source": []
  },
  {
   "cell_type": "markdown",
   "metadata": {},
   "source": [
    "### 5.2.3 分析数据： 画出决策边界"
   ]
  },
  {
   "cell_type": "code",
   "execution_count": 7,
   "metadata": {
    "collapsed": true
   },
   "outputs": [],
   "source": [
    "# 画出数据集和 Logistic 回归最近你和直线的函数\n",
    "# input: weights\n",
    "# function: 画出数据集和 Logistic 回归最近你和直线的函数\n",
    "\n",
    "def plotBestFit(weights):\n",
    "    import matplotlib.pyplot as plt\n",
    "    import matplotlib.patches as mpatches\n",
    "    \n",
    "    dataMat, labelMat = loadDataSet()\n",
    "    dataArr = np.array(dataMat)\n",
    "    n = np.shape(dataArr)[0]\n",
    "    \n",
    "    xcord1 = []; ycord1 = []\n",
    "    xcord2 = []; ycord2 = []\n",
    "    \n",
    "    for i in range(n):\n",
    "        # 如果 这个样本的 label 是 1\n",
    "        if int(labelMat[i]) == 1:\n",
    "            xcord1.append(dataArr[i,1]); ycord1.append(dataArr[i,2])\n",
    "        # 如果 这个样本的 label 是 0\n",
    "        else:\n",
    "            xcord2.append(dataArr[i,1]); ycord2.append(dataArr[i,2])\n",
    "            \n",
    "    # 画图\n",
    "    fig = plt.figure()\n",
    "    ax = fig.add_subplot(111)\n",
    "    ax.scatter(xcord1, ycord1, s=30, c='red', marker='s')\n",
    "    ax.scatter(xcord2, ycord2, s=30, c='green')\n",
    "    x = np.arange(-3.0, 3.0, 0.1)\n",
    "    y = (-weights[0] -weights[1]*x )/weights[2] # from w0 + w1*x1 + w2*x2 = 0\n",
    "    y = y.transpose()\n",
    "    ax.plot(x, y)\n",
    "    \n",
    "    # add legends\n",
    "    class0_legend = mpatches.Patch(color='green', label='Class 0')\n",
    "    class1_legend = mpatches.Patch(color='red', label='Class 1')\n",
    "    plt.legend(handles=[class0_legend, class1_legend])\n",
    "    \n",
    "    plt.xlabel('X1'); plt.ylabel('X2');\n",
    "    plt.show()\n",
    "    "
   ]
  },
  {
   "cell_type": "code",
   "execution_count": 8,
   "metadata": {},
   "outputs": [
    {
     "data": {
      "image/png": "[encoded data removed]",
      "text/plain": [
       "<matplotlib.figure.Figure at 0x17450806ef0>"
      ]
     },
     "metadata": {},
     "output_type": "display_data"
    }
   ],
   "source": [
    "plotBestFit(weights)"
   ]
  },
  {
   "cell_type": "code",
   "execution_count": null,
   "metadata": {
    "collapsed": true
   },
   "outputs": [],
   "source": []
  },
  {
   "cell_type": "markdown",
   "metadata": {},
   "source": [
    "### 5.2.4 训练算法： 随机梯度上升"
   ]
  },
  {
   "cell_type": "code",
   "execution_count": 9,
   "metadata": {
    "collapsed": true
   },
   "outputs": [],
   "source": [
    "# 随机梯度上升算法：\n",
    "# 所有回归系数初始化为1\n",
    "# 对数据集中每个样本\n",
    "#   计算该样本的梯度\n",
    "#   使用 alpha x gradient 更新回归系数值\n",
    "# 返回回归系数值\n",
    "\n",
    "# input: 训练集和训练集的 label\n",
    "# return: 经过 随机梯度上升算法 的 weights\n",
    "\n",
    "def stocGradAscent0(dataMatrix, classLabels):\n",
    "    m,n = np.shape(dataMatrix)\n",
    "    alpha = 0.01\n",
    "    weights = np.ones(n) # 初始化 weights\n",
    "    for i in range(m):\n",
    "        h = sigmoid(sum(dataMatrix[i]*weights))\n",
    "        error = classLabels[i] - h\n",
    "        weights = weights + alpha*error*dataMatrix[i]\n",
    "    return weights\n",
    "    "
   ]
  },
  {
   "cell_type": "code",
   "execution_count": 10,
   "metadata": {
    "collapsed": true
   },
   "outputs": [],
   "source": [
    "dataArr, labelMat = loadDataSet()"
   ]
  },
  {
   "cell_type": "code",
   "execution_count": 11,
   "metadata": {},
   "outputs": [
    {
     "data": {
      "text/plain": [
       "array([ 1.01702007,  0.85914348, -0.36579921])"
      ]
     },
     "execution_count": 11,
     "metadata": {},
     "output_type": "execute_result"
    }
   ],
   "source": [
    "weights = stocGradAscent0(np.array(dataArr), labelMat)\n",
    "weights"
   ]
  },
  {
   "cell_type": "code",
   "execution_count": 12,
   "metadata": {},
   "outputs": [
    {
     "data": {
      "image/png": "[encoded data removed]",
      "text/plain": [
       "<matplotlib.figure.Figure at 0x1744ff18cc0>"
      ]
     },
     "metadata": {},
     "output_type": "display_data"
    }
   ],
   "source": [
    "plotBestFit(weights)"
   ]
  },
  {
   "cell_type": "code",
   "execution_count": 13,
   "metadata": {
    "collapsed": true
   },
   "outputs": [],
   "source": [
    "# 改进的随机梯度上升算法：\n",
    "# 对于每次迭代(一次迭代用一次整个的数据集)\n",
    "#   所有回归系数初始化为1\n",
    "#   对数据集中每个样本\n",
    "#     更新 alpha\n",
    "#     随机选取一个样本\n",
    "#     计算该样本的梯度\n",
    "#     使用 alpha x gradient 更新回归系数值\n",
    "# 返回回归系数值\n",
    "\n",
    "# input: 训练集和训练集的 label, 还有迭代次数\n",
    "# return: 经过 改进的随机梯度上升算法 的 weights\n",
    "\n",
    "import random\n",
    "\n",
    "def stocGradAscent1(dataMatrix, classLabels, numIter = 150):\n",
    "    m,n = np.shape(dataMatrix)\n",
    "    weights = np.ones(n) # 初始化 weights\n",
    "    \n",
    "    for j in range(numIter):\n",
    "        # 本次迭代还剩的样本的 Index\n",
    "        dataIndex = list(range(m))\n",
    "        \n",
    "        for i in range(m):\n",
    "            # 更新 alpha\n",
    "            alpha = 4.0/(1.0+j+i)+0.01\n",
    "            # 随机选取一个样本\n",
    "            randIndex = int(random.uniform(0, len(dataIndex)))\n",
    "            h = sigmoid(sum(dataMatrix[randIndex]*weights))\n",
    "            error = classLabels[randIndex] - h\n",
    "            weights = weights + alpha*error*dataMatrix[randIndex]\n",
    "            del(dataIndex[randIndex])\n",
    "            \n",
    "    return weights"
   ]
  },
  {
   "cell_type": "code",
   "execution_count": 14,
   "metadata": {
    "collapsed": true
   },
   "outputs": [],
   "source": [
    "dataArr, labelMat = loadDataSet()"
   ]
  },
  {
   "cell_type": "code",
   "execution_count": 15,
   "metadata": {},
   "outputs": [
    {
     "data": {
      "text/plain": [
       "array([ 14.49288238,   1.06756489,  -2.00983195])"
      ]
     },
     "execution_count": 15,
     "metadata": {},
     "output_type": "execute_result"
    }
   ],
   "source": [
    "weights = stocGradAscent1(np.array(dataArr), labelMat)\n",
    "weights"
   ]
  },
  {
   "cell_type": "code",
   "execution_count": 16,
   "metadata": {},
   "outputs": [
    {
     "data": {
      "image/png": "[encoded data removed]",
      "text/plain": [
       "<matplotlib.figure.Figure at 0x1745144b470>"
      ]
     },
     "metadata": {},
     "output_type": "display_data"
    }
   ],
   "source": [
    "plotBestFit(weights)"
   ]
  },
  {
   "cell_type": "code",
   "execution_count": null,
   "metadata": {
    "collapsed": true
   },
   "outputs": [],
   "source": []
  },
  {
   "cell_type": "markdown",
   "metadata": {
    "collapsed": true
   },
   "source": [
    "# 5.3: 示例：利用逻辑回归从疝气病症预测病马的死亡率"
   ]
  },
  {
   "cell_type": "markdown",
   "metadata": {},
   "source": [
    "## 5.3.2 测试算法：用logistic回归进行分析"
   ]
  },
  {
   "cell_type": "code",
   "execution_count": 34,
   "metadata": {
    "collapsed": true
   },
   "outputs": [],
   "source": [
    "# classifyVector: 以回归系数和特征向量作为输入来计算sigmoid函数值， 大于0.5则返回1， 否则返回0\n",
    "# input: 特征向量(inX), 回归系数(weights)\n",
    "# return: 0/1\n",
    "\n",
    "def classifyVector(inX, weights):\n",
    "    prob = sigmoid(sum(inX * weights ))\n",
    "    if prob > 0.5:\n",
    "        return 1.0\n",
    "    else:\n",
    "        return 0.0"
   ]
  },
  {
   "cell_type": "code",
   "execution_count": 74,
   "metadata": {
    "collapsed": true
   },
   "outputs": [],
   "source": [
    "# colicTest: 计算用 trainingSet 得到的 weights 测试 testSet 得到的 errorRate\n",
    "# input: none\n",
    "# return: error rate\n",
    "\n",
    "def colicTest():\n",
    "    # 打开训练集和测试集文件\n",
    "    frTrain = open('horseColicTraining.txt')\n",
    "    frTest = open('horseColicTest.txt')\n",
    "    trainingSet = []; trainingLabels = []\n",
    "    \n",
    "    # 读取trainingSet里面的每一行， 将每一行的数据存储到一个list， 并将这个list加到trainingSet中\n",
    "    for line in frTrain.readlines():\n",
    "        currLine = line.strip().split('\\t')\n",
    "        lineArr = []\n",
    "        for i in range(21): #一共21个特征变量\n",
    "            lineArr.append(float(currLine[i]))\n",
    "        trainingSet.append(lineArr)\n",
    "        trainingLabels.append(float(currLine[21]))\n",
    "        \n",
    "    # get training weights with function stocGradAscent1\n",
    "    trainWeights = stocGradAscent1(np.array(trainingSet), trainingLabels, 500)\n",
    "    \n",
    "    # 用 trainWeights 测试 testSet 并计算错误率\n",
    "    errorCount = 0; numTestVec = 0.0\n",
    "    for line in frTest.readlines():\n",
    "        numTestVec += 1.0\n",
    "        currLine = line.strip().split()\n",
    "        lineArr = []\n",
    "        for i in range(21): #一共21个特征变量\n",
    "            lineArr.append(float(currLine[i]))\n",
    "        # 如果预测错误则 errorCount + 1\n",
    "        if int(classifyVector(np.array(lineArr), trainWeights)) != int(currLine[21]):\n",
    "            errorCount += 1\n",
    "        \n",
    "    errorRate = (float(errorCount)/numTestVec)\n",
    "    string = \"The error rate of this test is: \" + str(errorRate)\n",
    "    print(string)\n",
    "    return errorRate\n",
    "\n",
    "    "
   ]
  },
  {
   "cell_type": "code",
   "execution_count": 75,
   "metadata": {
    "collapsed": true
   },
   "outputs": [],
   "source": [
    "# multiTest: 调用 colicTest 函数 numTests 次， 并求错误率的平均值\n",
    "# input: 调用次数 numTests\n",
    "# function: 调用 colicTest 函数 numTests 次， 并求错误率的平均值\n",
    "\n",
    "def multiTest(numTests):\n",
    "    errorSum = 0.0\n",
    "    for k in range(numTests):\n",
    "        errorSum += colicTest()\n",
    "        \n",
    "    string = \"After \" + str(numTests) + \" iterations the average error rate is: \" + str(errorSum/float(numTests))\n",
    "    print(string)"
   ]
  },
  {
   "cell_type": "code",
   "execution_count": 77,
   "metadata": {},
   "outputs": [
    {
     "name": "stderr",
     "output_type": "stream",
     "text": [
      "C:\\ProgramData\\Anaconda3\\lib\\site-packages\\ipykernel_launcher.py:7: RuntimeWarning: overflow encountered in exp\n",
      "  import sys\n"
     ]
    },
    {
     "name": "stdout",
     "output_type": "stream",
     "text": [
      "The error rate of this test is: 0.40298507462686567\n",
      "The error rate of this test is: 0.2537313432835821\n",
      "The error rate of this test is: 0.34328358208955223\n",
      "The error rate of this test is: 0.3582089552238806\n",
      "The error rate of this test is: 0.373134328358209\n",
      "The error rate of this test is: 0.43283582089552236\n",
      "The error rate of this test is: 0.3283582089552239\n",
      "The error rate of this test is: 0.373134328358209\n",
      "The error rate of this test is: 0.43283582089552236\n",
      "The error rate of this test is: 0.44776119402985076\n",
      "After 10 iterations the average error rate is: 0.3746268656716418\n"
     ]
    }
   ],
   "source": [
    "numTests = 10\n",
    "multiTest(numTests)"
   ]
  },
  {
   "cell_type": "code",
   "execution_count": null,
   "metadata": {
    "collapsed": true
   },
   "outputs": [],
   "source": []
  }
 ],
 "metadata": {
  "kernelspec": {
   "display_name": "Python 3",
   "language": "python",
   "name": "python3"
  },
  "language_info": {
   "codemirror_mode": {
    "name": "ipython",
    "version": 3
   },
   "file_extension": ".py",
   "mimetype": "text/x-python",
   "name": "python",
   "nbconvert_exporter": "python",
   "pygments_lexer": "ipython3",
   "version": "3.6.2"
  }
 },
 "nbformat": 4,
 "nbformat_minor": 2
}
